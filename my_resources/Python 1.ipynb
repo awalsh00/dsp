{
 "cells": [
  {
   "cell_type": "code",
   "execution_count": 20,
   "metadata": {
    "collapsed": true
   },
   "outputs": [],
   "source": [
    "test_input=[['bbb', 'ccc', 'axx', 'xzz', 'xaa']\n",
    "    ,['ccc','bbb','aaa','xcc','xaa']\n",
    "    ,['mix','xyz','apple','xanadu','aardvark']\n",
    "    ]\n",
    "test_output=[['xaa','xzz','axx','bbb','ccc']\n",
    "    ,['xaa','xcc','aaa','bbb','ccc']\n",
    "    ,['xanadu','xyz','aardvark','apple','mix']]\n"
   ]
  },
  {
   "cell_type": "code",
   "execution_count": 27,
   "metadata": {},
   "outputs": [],
   "source": [
    "def front_x(words):\n",
    "    xlist = list()\n",
    "    non_xlist = list()\n",
    "    for w in words:\n",
    "        if w[0]=='x':\n",
    "            xlist.append(w)\n",
    "        else:\n",
    "            non_xlist.append(w)\n",
    "    xlist.sort()\n",
    "    non_xlist.sort()\n",
    "    return xlist+non_xlist\n"
   ]
  },
  {
   "cell_type": "code",
   "execution_count": 28,
   "metadata": {},
   "outputs": [
    {
     "name": "stdout",
     "output_type": "stream",
     "text": [
      "['xaa', 'xzz', 'axx', 'bbb', 'ccc']\n",
      "\tGood!\n",
      "['xaa', 'xcc', 'aaa', 'bbb', 'ccc']\n",
      "\tGood!\n",
      "['xanadu', 'xyz', 'aardvark', 'apple', 'mix']\n",
      "\tGood!\n"
     ]
    }
   ],
   "source": [
    "for t,a in zip(test_input,test_output):\n",
    "    t_sorted=front_x(t)\n",
    "    print(t_sorted)\n",
    "    if t_sorted == a:\n",
    "        print('\\tGood!')\n",
    "    else:\n",
    "        print('\\tBad!')\n"
   ]
  },
  {
   "cell_type": "code",
   "execution_count": 38,
   "metadata": {},
   "outputs": [],
   "source": [
    "def sort_last(tuples):\n",
    "    return list(sorted(tuples,key=lambda e: e[len(e)-1]))\n"
   ]
  },
  {
   "cell_type": "code",
   "execution_count": 39,
   "metadata": {},
   "outputs": [
    {
     "name": "stdout",
     "output_type": "stream",
     "text": [
      "[(2, 1), (3, 2), (1, 3)]\n",
      "[(3, 1), (1, 2), (2, 3)]\n",
      "[(2, 2), (1, 3), (3, 1, 5), (1, 7)]\n"
     ]
    }
   ],
   "source": [
    "print(sort_last([(1,3),(3,2),(2,1)]))\n",
    "print(sort_last([(2, 3), (1, 2), (3, 1)]))\n",
    "print(sort_last([(1, 7), (1, 3), (3,1,5), (2,2)]))\n"
   ]
  },
  {
   "cell_type": "code",
   "execution_count": 44,
   "metadata": {},
   "outputs": [],
   "source": [
    "def remove_adjacent(nums):\n",
    "    result = [nums[0]]\n",
    "    i = 1\n",
    "    current=nums[0]\n",
    "    for i in range(len(nums)):\n",
    "        if not nums[i]==current:\n",
    "            result.append(nums[i])\n",
    "            current=nums[i]\n",
    "    return result\n"
   ]
  },
  {
   "cell_type": "code",
   "execution_count": 45,
   "metadata": {},
   "outputs": [
    {
     "name": "stdout",
     "output_type": "stream",
     "text": [
      "[1, 2, 3]\n",
      "[2, 3]\n",
      "[3, 2, 3]\n"
     ]
    }
   ],
   "source": [
    "print(remove_adjacent([1,2,2,3]))\n",
    "print(remove_adjacent([2,2,3,3,3]))\n",
    "print(remove_adjacent([3,2,3,3,3]))"
   ]
  },
  {
   "cell_type": "code",
   "execution_count": 78,
   "metadata": {},
   "outputs": [],
   "source": [
    "def linear_merge(list1,list2):\n",
    "    list2_len = len(list2)\n",
    "    \n",
    "    if len(list1) < list2_len:\n",
    "        return linear_merge(list2,list1)\n",
    "\n",
    "    short_index = long_index = 0\n",
    "    while short_index < list2_len and long_index < len(list1):\n",
    "        print(list1,'\\t',long_index,list1[long_index],'\\t',short_index,list2[short_index],'\\n')\n",
    "        if list2[short_index] < list1[long_index]:\n",
    "            list1.insert(long_index,list2[short_index])\n",
    "            short_index+=1\n",
    "        long_index += 1\n",
    "    list1 += list2[short_index:]\n",
    "    return list1\n"
   ]
  },
  {
   "cell_type": "code",
   "execution_count": 81,
   "metadata": {},
   "outputs": [
    {
     "name": "stdout",
     "output_type": "stream",
     "text": [
      "[-1, 1.5, 5] \t 0 -1 \t 0 1 \n",
      "\n",
      "[-1, 1.5, 5] \t 1 1.5 \t 0 1 \n",
      "\n",
      "[-1, 1, 1.5, 5] \t 2 1.5 \t 1 2 \n",
      "\n",
      "[-1, 1, 1.5, 5] \t 3 5 \t 1 2 \n",
      "\n"
     ]
    },
    {
     "data": {
      "text/plain": [
       "[-1, 1, 1.5, 2, 5]"
      ]
     },
     "execution_count": 81,
     "metadata": {},
     "output_type": "execute_result"
    }
   ],
   "source": [
    "list_one= [ 1, 2]\n",
    "list_two= [-1, 1.5, 5]\n",
    "linear_merge(list_one,list_two)\n"
   ]
  },
  {
   "cell_type": "markdown",
   "metadata": {},
   "source": [
    "# Football\n",
    "The football.csv file contains the results from the English Premier League.\n",
    "The columns labeled ‘Goals’ and ‘Goals Allowed’ contain the total number of goals scored for and against each team in that season (so Arsenal scored 79 goals against opponents, and had 36 goals scored against them). Write a program to read the file, then print the name of the team with the smallest difference in ‘for’ and ‘against’ goals."
   ]
  },
  {
   "cell_type": "code",
   "execution_count": 1,
   "metadata": {},
   "outputs": [],
   "source": [
    "import sys\n",
    "import os\n",
    "import csv\n",
    "\n",
    "text = '''Team,Games,Wins,Losses,Draws,Goals,Goals Allowed,Points\n",
    "Arsenal,38,26,9,3,79,36,87\n",
    "Liverpool,38,24,8,6,67,30,80\n",
    "Manchester United,38,24,5,9,87,45,77\n",
    "Newcastle,38,21,8,9,74,52,71\n",
    "Leeds,38,18,12,8,53,37,66\n",
    "Chelsea,38,17,13,8,66,38,64\n",
    "West_Ham,38,15,8,15,48,57,53\n",
    "Aston_Villa,38,12,14,12,46,47,50\n",
    "Tottenham,38,14,8,16,49,53,50\n",
    "Blackburn,38,12,10,16,55,51,46\n",
    "Southampton,38,12,9,17,46,54,45\n",
    "Middlesbrough,38,12,9,17,35,47,45\n",
    "Fulham,38,10,14,14,36,44,44\n",
    "Charlton,38,10,14,14,38,49,44\n",
    "Everton,38,11,10,17,45,57,43\n",
    "Bolton,38,9,13,16,44,62,40\n",
    "Sunderland,38,10,10,18,29,51,40\n",
    "Ipswich,38,9,9,20,41,64,36\n",
    "Derby,38,8,6,24,33,63,30\n",
    "Leicester,38,5,13,20,30,64,28'''\n",
    "\n",
    "with open('python/football.csv', 'w') as f:\n",
    "    f.write(text)"
   ]
  },
  {
   "cell_type": "code",
   "execution_count": 41,
   "metadata": {},
   "outputs": [],
   "source": [
    "def read_data(filename):\n",
    "    \"\"\"Returns a list of lists representing the rows of the csv file data.\n",
    "\n",
    "    Arguments: filename is the name of a csv file (as a string)\n",
    "    Returns: list of lists of strings, where every line is split into a list of values. \n",
    "        ex: ['Arsenal', 38, 26, 9, 3, 79, 36, 87]\n",
    "    \"\"\"\n",
    "    with open('python/football.csv') as f:\n",
    "        data = [f.readline().strip().split(',')]\n",
    "        for row in f:\n",
    "            new_row=row.strip().split(',')\n",
    "            new_row[1:] = map(int,new_row[1:])\n",
    "            data.append(new_row)\n",
    "    return data\n",
    "\n",
    "\n",
    "def get_index_with_min_abs_score_difference(goals):\n",
    "    \"\"\"Returns the index of the team with the smallest difference\n",
    "    between 'for' and 'against' goals, in terms of absolute value.\n",
    "\n",
    "    Arguments: parsed_data is a list of lists of cleaned strings\n",
    "    Returns: integer row index\n",
    "    \"\"\"\n",
    "    for_column=goals[0].index('Goals')\n",
    "    against_column=goals[0].index('Goals Allowed')\n",
    "\n",
    "    lowrow = 1\n",
    "    scorediff = abs(goals[1][for_column]-goals[1][against_column])\n",
    "    for i in range(2,len(goals)):\n",
    "        newdiff = abs(goals[i][for_column]-goals[i][against_column])\n",
    "        if (newdiff < scorediff):\n",
    "            scorediff=newdiff\n",
    "            lowrow=i\n",
    "    return lowrow\n",
    "\n",
    "\n",
    "def get_team(index_value, parsed_data):\n",
    "    \"\"\"Returns the team name at a given index.\n",
    "    \n",
    "    Arguments: index_value is an integer row index\n",
    "               parsed_data is the output of `read_data` above\n",
    "               \n",
    "    Returns: the team name\n",
    "    \"\"\"\n",
    "    column=parsed_data[0].index('Team')\n",
    "    return parsed_data[index_value][parsed_data[0].index('Team')]"
   ]
  },
  {
   "cell_type": "code",
   "execution_count": 42,
   "metadata": {},
   "outputs": [
    {
     "name": "stdout",
     "output_type": "stream",
     "text": [
      "Aston_Villa\n"
     ]
    }
   ],
   "source": [
    "footballTable = read_data('football.csv')\n",
    "minRow = get_index_with_min_abs_score_difference(footballTable)\n",
    "print(str(get_team(minRow, footballTable)))"
   ]
  },
  {
   "cell_type": "code",
   "execution_count": 65,
   "metadata": {},
   "outputs": [],
   "source": [
    "import random\n",
    "\n",
    "def measure_time(f, *args):\n",
    "    then = datetime.now()\n",
    "    res = f(*args)\n",
    "    now = datetime.now()\n",
    "    return res, now-then\n",
    "\n",
    "list1 = random.sample(range(10**6), 10000)\n",
    "list2 = random.sample(range(10**6), 10000)"
   ]
  },
  {
   "cell_type": "code",
   "execution_count": 67,
   "metadata": {},
   "outputs": [
    {
     "data": {
      "text/plain": [
       "92"
      ]
     },
     "execution_count": 67,
     "metadata": {},
     "output_type": "execute_result"
    }
   ],
   "source": [
    "intersect = set(list1) & set(list2)\n",
    "len(intersect)"
   ]
  },
  {
   "cell_type": "code",
   "execution_count": 69,
   "metadata": {},
   "outputs": [
    {
     "name": "stdout",
     "output_type": "stream",
     "text": [
      "defaultdict(<class 'int'>, {'spam': 7, 'eggs': 1})\n"
     ]
    }
   ],
   "source": [
    "food_list = 'spam spam spam spam spam spam eggs spam'.split()\n",
    "\n",
    "from collections import defaultdict\n",
    "\n",
    "food_count = defaultdict(int)\n",
    "for food in food_list:\n",
    "    food_count[food]+=1\n",
    "\n",
    "print(food_count)"
   ]
  },
  {
   "cell_type": "code",
   "execution_count": 73,
   "metadata": {},
   "outputs": [
    {
     "name": "stdout",
     "output_type": "stream",
     "text": [
      "{'fifth': 555,\n",
      " 'first': 123,\n",
      " 'fourth': {1: 1, 2: 2},\n",
      " 'second': 456,\n",
      " 'third': {1: 1, 2: 2}}\n",
      "{'fifth': 555,\n",
      " 'first': 123,\n",
      " 'fourth': {1: 1,\n",
      "            2: 2},\n",
      " 'second': 456,\n",
      " 'third': {1: 1,\n",
      "           2: 2}}\n"
     ]
    }
   ],
   "source": [
    "a = {'first':123, 'second':456, 'third': {1:1, 2:2}, 'fourth':{1:1,2:2}, 'fifth':555}\n",
    "#print(a)\n",
    "\n",
    "import pprint as pp\n",
    "\n",
    "pp.pprint(a)\n",
    "pp.pprint(a,width=2)"
   ]
  },
  {
   "cell_type": "code",
   "execution_count": 74,
   "metadata": {},
   "outputs": [
    {
     "name": "stdout",
     "output_type": "stream",
     "text": [
      "0 It's\n",
      "1 only\n",
      "2 a\n",
      "3 model\n"
     ]
    }
   ],
   "source": [
    "mylist = [\"It's\", 'only', 'a', 'model']\n",
    "\n",
    "for index, item in enumerate(mylist):\n",
    "    print(index,item)"
   ]
  },
  {
   "cell_type": "code",
   "execution_count": null,
   "metadata": {},
   "outputs": [],
   "source": []
  }
 ],
 "metadata": {
  "kernelspec": {
   "display_name": "Python 3",
   "language": "python",
   "name": "python3"
  },
  "language_info": {
   "codemirror_mode": {
    "name": "ipython",
    "version": 3
   },
   "file_extension": ".py",
   "mimetype": "text/x-python",
   "name": "python",
   "nbconvert_exporter": "python",
   "pygments_lexer": "ipython3",
   "version": "3.7.0"
  }
 },
 "nbformat": 4,
 "nbformat_minor": 1
}
