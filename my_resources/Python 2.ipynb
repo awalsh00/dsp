{
 "cells": [
  {
   "cell_type": "code",
   "execution_count": 88,
   "metadata": {},
   "outputs": [],
   "source": [
    "import re\n",
    "import csv\n",
    "import pprint\n",
    "test_file='python/faculty.csv'"
   ]
  },
  {
   "cell_type": "code",
   "execution_count": 32,
   "metadata": {},
   "outputs": [],
   "source": [
    "def count_degrees(csv_file_name):\n",
    "    pattern = re.compile(r'[.]')\n",
    "    freq = dict()\n",
    "    with open(csv_file_name, newline='') as f:\n",
    "        data = csv.DictReader(f)\n",
    "        for row in data:\n",
    "            for d in pattern.sub('',row[' degree'].strip()).split():\n",
    "                freq[d]=freq.get(d,0)+1\n",
    "    return freq"
   ]
  },
  {
   "cell_type": "code",
   "execution_count": 33,
   "metadata": {},
   "outputs": [
    {
     "data": {
      "text/plain": [
       "{'ScD': 6,\n",
       " 'PhD': 31,\n",
       " 'MD': 1,\n",
       " 'MPH': 2,\n",
       " 'BSEd': 1,\n",
       " 'MS': 2,\n",
       " 'JD': 1,\n",
       " 'MA': 1,\n",
       " '0': 1}"
      ]
     },
     "execution_count": 33,
     "metadata": {},
     "output_type": "execute_result"
    }
   ],
   "source": [
    "count_degrees(test_file)"
   ]
  },
  {
   "cell_type": "code",
   "execution_count": 34,
   "metadata": {},
   "outputs": [],
   "source": [
    "def count_titles(csv_file_name):\n",
    "    pattern = re.compile(r'(\\s)is(\\s)')\n",
    "    freq = dict()\n",
    "    with open(csv_file_name, newline='') as f:\n",
    "        data = csv.DictReader(f)\n",
    "        for row in data:\n",
    "            row[' title']=pattern.sub(r'\\1of\\2',row[' title'])\n",
    "            freq[row[' title']]=freq.get(row[' title'],0)+1\n",
    "    return freq"
   ]
  },
  {
   "cell_type": "code",
   "execution_count": 35,
   "metadata": {},
   "outputs": [
    {
     "data": {
      "text/plain": [
       "{'Associate Professor of Biostatistics': 12,\n",
       " 'Professor of Biostatistics': 13,\n",
       " 'Assistant Professor of Biostatistics': 12}"
      ]
     },
     "execution_count": 35,
     "metadata": {},
     "output_type": "execute_result"
    }
   ],
   "source": [
    "count_titles(test_file)"
   ]
  },
  {
   "cell_type": "raw",
   "metadata": {},
   "source": []
  },
  {
   "cell_type": "code",
   "execution_count": 39,
   "metadata": {},
   "outputs": [],
   "source": [
    "def email(csv_file_name):\n",
    "    pattern = re.compile(r'.*,(.*@.*)$')\n",
    "    emails = list()\n",
    "    with open(csv_file_name) as f:\n",
    "        f.readline()\n",
    "        for line in f:\n",
    "            emails.append(pattern.search(line).group(1))\n",
    "    return emails"
   ]
  },
  {
   "cell_type": "code",
   "execution_count": 40,
   "metadata": {},
   "outputs": [
    {
     "data": {
      "text/plain": [
       "['bellamys@mail.med.upenn.edu',\n",
       " 'warren@upenn.edu',\n",
       " 'bryanma@upenn.edu',\n",
       " 'jinboche@upenn.edu',\n",
       " 'sellenbe@upenn.edu',\n",
       " 'jellenbe@mail.med.upenn.edu',\n",
       " 'ruifeng@upenn.edu',\n",
       " 'bcfrench@mail.med.upenn.edu',\n",
       " 'pgimotty@upenn.edu',\n",
       " 'wguo@mail.med.upenn.edu',\n",
       " 'hsu9@mail.med.upenn.edu',\n",
       " 'rhubb@mail.med.upenn.edu',\n",
       " 'whwang@mail.med.upenn.edu',\n",
       " 'mjoffe@mail.med.upenn.edu',\n",
       " 'jrlandis@mail.med.upenn.edu',\n",
       " 'liy3@email.chop.edu',\n",
       " 'mingyao@mail.med.upenn.edu',\n",
       " 'hongzhe@upenn.edu',\n",
       " 'rlocalio@upenn.edu',\n",
       " 'nanditam@mail.med.upenn.edu',\n",
       " 'knashawn@mail.med.upenn.edu',\n",
       " 'propert@mail.med.upenn.edu',\n",
       " 'mputt@mail.med.upenn.edu',\n",
       " 'sratclif@upenn.edu',\n",
       " 'michross@upenn.edu',\n",
       " 'jaroy@mail.med.upenn.edu',\n",
       " 'msammel@cceb.med.upenn.edu',\n",
       " 'shawp@upenn.edu',\n",
       " 'rshi@mail.med.upenn.edu',\n",
       " 'hshou@mail.med.upenn.edu',\n",
       " 'jshults@mail.med.upenn.edu',\n",
       " 'alisaste@mail.med.upenn.edu',\n",
       " 'atroxel@mail.med.upenn.edu',\n",
       " 'rxiao@mail.med.upenn.edu',\n",
       " 'sxie@mail.med.upenn.edu',\n",
       " 'dxie@upenn.edu',\n",
       " 'weiyang@mail.med.upenn.edu']"
      ]
     },
     "execution_count": 40,
     "metadata": {},
     "output_type": "execute_result"
    }
   ],
   "source": [
    "emails(test_file)"
   ]
  },
  {
   "cell_type": "code",
   "execution_count": 41,
   "metadata": {},
   "outputs": [],
   "source": [
    "def unique_domain(emails):\n",
    "    domains = set()\n",
    "    pattern = re.compile('(.*)@(.*)')\n",
    "    for email in emails:\n",
    "        domains.add(pattern.search(email).group(2))\n",
    "    return domains"
   ]
  },
  {
   "cell_type": "code",
   "execution_count": 42,
   "metadata": {},
   "outputs": [
    {
     "data": {
      "text/plain": [
       "{'cceb.med.upenn.edu', 'email.chop.edu', 'mail.med.upenn.edu', 'upenn.edu'}"
      ]
     },
     "execution_count": 42,
     "metadata": {},
     "output_type": "execute_result"
    }
   ],
   "source": [
    "unique_domain(email_list())"
   ]
  },
  {
   "cell_type": "code",
   "execution_count": 57,
   "metadata": {},
   "outputs": [],
   "source": [
    "def write_to_csv(list_of_emails):\n",
    "    with open('emails.csv', 'w', newline='') as f:\n",
    "        headers = ['list_of_emails']\n",
    "        writer = csv.DictWriter(f,headers)\n",
    "        \n",
    "        writer.writeheader()\n",
    "        for email in list_of_emails:\n",
    "            writer.writerow({'list_of_emails':email})"
   ]
  },
  {
   "cell_type": "code",
   "execution_count": 58,
   "metadata": {},
   "outputs": [],
   "source": [
    "write_to_csv(email_list())"
   ]
  },
  {
   "cell_type": "code",
   "execution_count": 145,
   "metadata": {},
   "outputs": [],
   "source": [
    "def get_dict():\n",
    "    pattern=re.compile(r'.*\\s(.*$)')\n",
    "    faculty = dict()\n",
    "    with open('python/faculty.csv',newline='') as f:\n",
    "        reader=csv.DictReader(f)\n",
    "        for row in reader:\n",
    "            lastname=pattern.search(row['name']).group(1)\n",
    "            rowdata=list(row.values())[1:]\n",
    "            faculty[lastname]=faculty.get(lastname,[])+[rowdata]\n",
    "    return faculty"
   ]
  },
  {
   "cell_type": "code",
   "execution_count": 146,
   "metadata": {
    "scrolled": true
   },
   "outputs": [
    {
     "data": {
      "text/plain": [
       "{'Bellamy': [[' Sc.D.',\n",
       "   'Associate Professor of Biostatistics',\n",
       "   'bellamys@mail.med.upenn.edu']],\n",
       " 'Bilker': [['Ph.D.', 'Professor of Biostatistics', 'warren@upenn.edu']],\n",
       " 'Bryan': [[' PhD',\n",
       "   'Assistant Professor of Biostatistics',\n",
       "   'bryanma@upenn.edu']],\n",
       " 'Chen': [[' Ph.D.',\n",
       "   'Associate Professor of Biostatistics',\n",
       "   'jinboche@upenn.edu']],\n",
       " 'Ellenberg': [[' Ph.D.', 'Professor of Biostatistics', 'sellenbe@upenn.edu'],\n",
       "  [' Ph.D.', 'Professor of Biostatistics', 'jellenbe@mail.med.upenn.edu']],\n",
       " 'Feng': [[' Ph.D',\n",
       "   'Assistant Professor of Biostatistics',\n",
       "   'ruifeng@upenn.edu']],\n",
       " 'French': [[' PhD',\n",
       "   'Associate Professor of Biostatistics',\n",
       "   'bcfrench@mail.med.upenn.edu']],\n",
       " 'Gimotty': [[' Ph.D', 'Professor of Biostatistics', 'pgimotty@upenn.edu']],\n",
       " 'Guo': [[' Ph.D', 'Professor of Biostatistics', 'wguo@mail.med.upenn.edu']],\n",
       " 'Hsu': [[' Ph.D.',\n",
       "   'Assistant Professor of Biostatistics',\n",
       "   'hsu9@mail.med.upenn.edu']],\n",
       " 'Hubbard': [[' PhD',\n",
       "   'Associate Professor of Biostatistics',\n",
       "   'rhubb@mail.med.upenn.edu']],\n",
       " 'Hwang': [[' Ph.D.',\n",
       "   'Associate Professor of Biostatistics',\n",
       "   'whwang@mail.med.upenn.edu']],\n",
       " 'Joffe': [[' MD MPH Ph.D',\n",
       "   'Professor of Biostatistics',\n",
       "   'mjoffe@mail.med.upenn.edu']],\n",
       " 'Landis': [[' B.S.Ed. M.S. Ph.D.',\n",
       "   'Professor of Biostatistics',\n",
       "   'jrlandis@mail.med.upenn.edu']],\n",
       " 'Li': [[' Ph.D.',\n",
       "   'Assistant Professor of Biostatistics',\n",
       "   'liy3@email.chop.edu'],\n",
       "  [' Ph.D.',\n",
       "   'Associate Professor of Biostatistics',\n",
       "   'mingyao@mail.med.upenn.edu'],\n",
       "  [' Ph.D', 'Professor of Biostatistics', 'hongzhe@upenn.edu']],\n",
       " 'Localio': [[' JD MA MPH MS PhD',\n",
       "   'Associate Professor of Biostatistics',\n",
       "   'rlocalio@upenn.edu']],\n",
       " 'Mitra': [[' Ph.D.',\n",
       "   'Associate Professor of Biostatistics',\n",
       "   'nanditam@mail.med.upenn.edu']],\n",
       " 'Morales': [[' Sc.D.',\n",
       "   'Associate Professor of Biostatistics',\n",
       "   'knashawn@mail.med.upenn.edu']],\n",
       " 'Propert': [[' Sc.D.',\n",
       "   'Professor of Biostatistics',\n",
       "   'propert@mail.med.upenn.edu']],\n",
       " 'Putt': [[' PhD ScD',\n",
       "   'Professor of Biostatistics',\n",
       "   'mputt@mail.med.upenn.edu']],\n",
       " 'Ratcliffe': [[' Ph.D.',\n",
       "   'Associate Professor of Biostatistics',\n",
       "   'sratclif@upenn.edu']],\n",
       " 'Ross': [[' PhD',\n",
       "   'Assistant Professor is Biostatistics',\n",
       "   'michross@upenn.edu']],\n",
       " 'Roy': [[' Ph.D.',\n",
       "   'Associate Professor of Biostatistics',\n",
       "   'jaroy@mail.med.upenn.edu']],\n",
       " 'Sammel': [[' Sc.D.',\n",
       "   'Professor of Biostatistics',\n",
       "   'msammel@cceb.med.upenn.edu']],\n",
       " 'Shaw': [[' PhD', 'Assistant Professor of Biostatistics', 'shawp@upenn.edu']],\n",
       " 'Shinohara': [['0',\n",
       "   'Assistant Professor of Biostatistics',\n",
       "   'rshi@mail.med.upenn.edu']],\n",
       " 'Shou': [[' Ph.D.',\n",
       "   'Assistant Professor of Biostatistics',\n",
       "   'hshou@mail.med.upenn.edu']],\n",
       " 'Shults': [[' Ph.D.',\n",
       "   'Professor of Biostatistics',\n",
       "   'jshults@mail.med.upenn.edu']],\n",
       " 'Stephens': [[' Ph.D.',\n",
       "   'Assistant Professor of Biostatistics',\n",
       "   'alisaste@mail.med.upenn.edu']],\n",
       " 'Troxel': [[' ScD',\n",
       "   'Professor of Biostatistics',\n",
       "   'atroxel@mail.med.upenn.edu']],\n",
       " 'Xiao': [[' PhD',\n",
       "   'Assistant Professor of Biostatistics',\n",
       "   'rxiao@mail.med.upenn.edu']],\n",
       " 'Xie': [[' Ph.D.',\n",
       "   'Associate Professor of Biostatistics',\n",
       "   'sxie@mail.med.upenn.edu'],\n",
       "  [' PhD', 'Assistant Professor of Biostatistics', 'dxie@upenn.edu']],\n",
       " 'Yang': [[' Ph.D.',\n",
       "   'Assistant Professor of Biostatistics',\n",
       "   'weiyang@mail.med.upenn.edu']]}"
      ]
     },
     "execution_count": 146,
     "metadata": {},
     "output_type": "execute_result"
    }
   ],
   "source": [
    "get_dict()"
   ]
  },
  {
   "cell_type": "code",
   "execution_count": 202,
   "metadata": {},
   "outputs": [],
   "source": [
    "def get_dict2():\n",
    "    pattern = re.compile(r'\\S+')\n",
    "    faculty = dict()\n",
    "    with open('python/faculty.csv',newline='') as f:\n",
    "        reader=csv.DictReader(f)\n",
    "        for row in reader:\n",
    "            nametuple=tuple(pattern.findall(row['name']))\n",
    "            faculty[nametuple]=list(row.values())[1:]\n",
    "    return faculty"
   ]
  },
  {
   "cell_type": "code",
   "execution_count": 203,
   "metadata": {},
   "outputs": [
    {
     "data": {
      "text/plain": [
       "{('Scarlett', 'L.', 'Bellamy'): [' Sc.D.',\n",
       "  'Associate Professor of Biostatistics',\n",
       "  'bellamys@mail.med.upenn.edu'],\n",
       " ('Warren', 'B.', 'Bilker'): ['Ph.D.',\n",
       "  'Professor of Biostatistics',\n",
       "  'warren@upenn.edu'],\n",
       " ('Matthew', 'W', 'Bryan'): [' PhD',\n",
       "  'Assistant Professor of Biostatistics',\n",
       "  'bryanma@upenn.edu'],\n",
       " ('Jinbo', 'Chen'): [' Ph.D.',\n",
       "  'Associate Professor of Biostatistics',\n",
       "  'jinboche@upenn.edu'],\n",
       " ('Susan', 'S', 'Ellenberg'): [' Ph.D.',\n",
       "  'Professor of Biostatistics',\n",
       "  'sellenbe@upenn.edu'],\n",
       " ('Jonas', 'H.', 'Ellenberg'): [' Ph.D.',\n",
       "  'Professor of Biostatistics',\n",
       "  'jellenbe@mail.med.upenn.edu'],\n",
       " ('Rui', 'Feng'): [' Ph.D',\n",
       "  'Assistant Professor of Biostatistics',\n",
       "  'ruifeng@upenn.edu'],\n",
       " ('Benjamin', 'C.', 'French'): [' PhD',\n",
       "  'Associate Professor of Biostatistics',\n",
       "  'bcfrench@mail.med.upenn.edu'],\n",
       " ('Phyllis', 'A.', 'Gimotty'): [' Ph.D',\n",
       "  'Professor of Biostatistics',\n",
       "  'pgimotty@upenn.edu'],\n",
       " ('Wensheng', 'Guo'): [' Ph.D',\n",
       "  'Professor of Biostatistics',\n",
       "  'wguo@mail.med.upenn.edu'],\n",
       " ('Yenchih', 'Hsu'): [' Ph.D.',\n",
       "  'Assistant Professor of Biostatistics',\n",
       "  'hsu9@mail.med.upenn.edu'],\n",
       " ('Rebecca', 'A', 'Hubbard'): [' PhD',\n",
       "  'Associate Professor of Biostatistics',\n",
       "  'rhubb@mail.med.upenn.edu'],\n",
       " ('Wei-Ting', 'Hwang'): [' Ph.D.',\n",
       "  'Associate Professor of Biostatistics',\n",
       "  'whwang@mail.med.upenn.edu'],\n",
       " ('Marshall', 'M.', 'Joffe'): [' MD MPH Ph.D',\n",
       "  'Professor of Biostatistics',\n",
       "  'mjoffe@mail.med.upenn.edu'],\n",
       " ('J.', 'Richard', 'Landis'): [' B.S.Ed. M.S. Ph.D.',\n",
       "  'Professor of Biostatistics',\n",
       "  'jrlandis@mail.med.upenn.edu'],\n",
       " ('Yimei', 'Li'): [' Ph.D.',\n",
       "  'Assistant Professor of Biostatistics',\n",
       "  'liy3@email.chop.edu'],\n",
       " ('Mingyao', 'Li'): [' Ph.D.',\n",
       "  'Associate Professor of Biostatistics',\n",
       "  'mingyao@mail.med.upenn.edu'],\n",
       " ('Hongzhe', 'Li'): [' Ph.D',\n",
       "  'Professor of Biostatistics',\n",
       "  'hongzhe@upenn.edu'],\n",
       " ('A.', 'Russell', 'Localio'): [' JD MA MPH MS PhD',\n",
       "  'Associate Professor of Biostatistics',\n",
       "  'rlocalio@upenn.edu'],\n",
       " ('Nandita', 'Mitra'): [' Ph.D.',\n",
       "  'Associate Professor of Biostatistics',\n",
       "  'nanditam@mail.med.upenn.edu'],\n",
       " ('Knashawn', 'H.', 'Morales'): [' Sc.D.',\n",
       "  'Associate Professor of Biostatistics',\n",
       "  'knashawn@mail.med.upenn.edu'],\n",
       " ('Kathleen', 'Joy', 'Propert'): [' Sc.D.',\n",
       "  'Professor of Biostatistics',\n",
       "  'propert@mail.med.upenn.edu'],\n",
       " ('Mary', 'E.', 'Putt'): [' PhD ScD',\n",
       "  'Professor of Biostatistics',\n",
       "  'mputt@mail.med.upenn.edu'],\n",
       " ('Sarah', 'Jane', 'Ratcliffe'): [' Ph.D.',\n",
       "  'Associate Professor of Biostatistics',\n",
       "  'sratclif@upenn.edu'],\n",
       " ('Michelle', 'Elana', 'Ross'): [' PhD',\n",
       "  'Assistant Professor is Biostatistics',\n",
       "  'michross@upenn.edu'],\n",
       " ('Jason', 'A.', 'Roy'): [' Ph.D.',\n",
       "  'Associate Professor of Biostatistics',\n",
       "  'jaroy@mail.med.upenn.edu'],\n",
       " ('Mary', 'D.', 'Sammel'): [' Sc.D.',\n",
       "  'Professor of Biostatistics',\n",
       "  'msammel@cceb.med.upenn.edu'],\n",
       " ('Pamela', 'Ann', 'Shaw'): [' PhD',\n",
       "  'Assistant Professor of Biostatistics',\n",
       "  'shawp@upenn.edu'],\n",
       " ('Russell', 'Takeshi', 'Shinohara'): ['0',\n",
       "  'Assistant Professor of Biostatistics',\n",
       "  'rshi@mail.med.upenn.edu'],\n",
       " ('Haochang', 'Shou'): [' Ph.D.',\n",
       "  'Assistant Professor of Biostatistics',\n",
       "  'hshou@mail.med.upenn.edu'],\n",
       " ('Justine', 'Shults'): [' Ph.D.',\n",
       "  'Professor of Biostatistics',\n",
       "  'jshults@mail.med.upenn.edu'],\n",
       " ('Alisa', 'Jane', 'Stephens'): [' Ph.D.',\n",
       "  'Assistant Professor of Biostatistics',\n",
       "  'alisaste@mail.med.upenn.edu'],\n",
       " ('Andrea', 'Beth', 'Troxel'): [' ScD',\n",
       "  'Professor of Biostatistics',\n",
       "  'atroxel@mail.med.upenn.edu'],\n",
       " ('Rui', 'Xiao'): [' PhD',\n",
       "  'Assistant Professor of Biostatistics',\n",
       "  'rxiao@mail.med.upenn.edu'],\n",
       " ('Sharon', 'Xiangwen', 'Xie'): [' Ph.D.',\n",
       "  'Associate Professor of Biostatistics',\n",
       "  'sxie@mail.med.upenn.edu'],\n",
       " ('Dawei', 'Xie'): [' PhD',\n",
       "  'Assistant Professor of Biostatistics',\n",
       "  'dxie@upenn.edu'],\n",
       " ('Wei', '(Peter)', 'Yang'): [' Ph.D.',\n",
       "  'Assistant Professor of Biostatistics',\n",
       "  'weiyang@mail.med.upenn.edu']}"
      ]
     },
     "execution_count": 203,
     "metadata": {},
     "output_type": "execute_result"
    }
   ],
   "source": [
    "get_dict2()"
   ]
  },
  {
   "cell_type": "code",
   "execution_count": null,
   "metadata": {},
   "outputs": [],
   "source": []
  }
 ],
 "metadata": {
  "kernelspec": {
   "display_name": "Python 3",
   "language": "python",
   "name": "python3"
  },
  "language_info": {
   "codemirror_mode": {
    "name": "ipython",
    "version": 3
   },
   "file_extension": ".py",
   "mimetype": "text/x-python",
   "name": "python",
   "nbconvert_exporter": "python",
   "pygments_lexer": "ipython3",
   "version": "3.7.0"
  }
 },
 "nbformat": 4,
 "nbformat_minor": 2
}
