{
 "cells": [
  {
   "cell_type": "code",
   "execution_count": 42,
   "metadata": {},
   "outputs": [
    {
     "data": {
      "text/plain": [
       "9"
      ]
     },
     "execution_count": 42,
     "metadata": {},
     "output_type": "execute_result"
    }
   ],
   "source": [
    "import re\n",
    "\n",
    "pattern = re.compile(r'[.]')\n",
    "freq = dict()\n",
    "with open('python/faculty.csv') as f:\n",
    "    f.readline()\n",
    "    for line in f:\n",
    "        (name,degree,title,email)=line.rstrip().split(',')\n",
    "        for d in pattern.sub('',degree.strip()).split():\n",
    "            freq[d]=freq.get(d,0)+1\n",
    "len(freq)"
   ]
  },
  {
   "cell_type": "code",
   "execution_count": 54,
   "metadata": {},
   "outputs": [
    {
     "name": "stdout",
     "output_type": "stream",
     "text": [
      "{'Assistant Professor of Biostatistics': 12,\n",
      " 'Associate Professor of Biostatistics': 12,\n",
      " 'Professor of Biostatistics': 13}\n"
     ]
    }
   ],
   "source": [
    "import pprint\n",
    "\n",
    "\n",
    "pattern = re.compile(r'(\\s)is(\\s)')\n",
    "freq = dict()\n",
    "with open('python/faculty.csv') as f:\n",
    "    f.readline()\n",
    "    for line in f:\n",
    "        (name,degree,title,email)=line.rstrip().split(',')\n",
    "        title=pattern.sub(r'\\1of\\2',title)\n",
    "        freq[title] = freq.get(title,0)+1\n",
    "pprint.pprint(freq)"
   ]
  },
  {
   "cell_type": "code",
   "execution_count": 5,
   "metadata": {},
   "outputs": [],
   "source": [
    "import re\n",
    "\n",
    "def email_list():\n",
    "    pattern = re.compile(r'.*,(.*@.*)$')\n",
    "    emails = list()\n",
    "    with open('python/faculty.csv') as f:\n",
    "        f.readline()\n",
    "        for line in f:\n",
    "            emails.append(pattern.match(line).group(1))\n",
    "    return emails"
   ]
  },
  {
   "cell_type": "code",
   "execution_count": 6,
   "metadata": {},
   "outputs": [],
   "source": [
    "def unique_domain(emails):\n",
    "    domains = set()\n",
    "    pattern = re.compile('(.*)@(.*)')\n",
    "    for email in emails:\n",
    "        domains.add(pattern.match(email).group(2))\n",
    "    return domains"
   ]
  },
  {
   "cell_type": "code",
   "execution_count": 7,
   "metadata": {},
   "outputs": [
    {
     "data": {
      "text/plain": [
       "{'cceb.med.upenn.edu', 'email.chop.edu', 'mail.med.upenn.edu', 'upenn.edu'}"
      ]
     },
     "execution_count": 7,
     "metadata": {},
     "output_type": "execute_result"
    }
   ],
   "source": [
    "unique_domain(email_list())"
   ]
  },
  {
   "cell_type": "code",
   "execution_count": null,
   "metadata": {},
   "outputs": [],
   "source": []
  }
 ],
 "metadata": {
  "kernelspec": {
   "display_name": "Python 3",
   "language": "python",
   "name": "python3"
  },
  "language_info": {
   "codemirror_mode": {
    "name": "ipython",
    "version": 3
   },
   "file_extension": ".py",
   "mimetype": "text/x-python",
   "name": "python",
   "nbconvert_exporter": "python",
   "pygments_lexer": "ipython3",
   "version": "3.7.0"
  }
 },
 "nbformat": 4,
 "nbformat_minor": 2
}
